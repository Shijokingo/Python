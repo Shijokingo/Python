{
 "metadata": {
  "language_info": {
   "codemirror_mode": {
    "name": "ipython",
    "version": 3
   },
   "file_extension": ".py",
   "mimetype": "text/x-python",
   "name": "python",
   "nbconvert_exporter": "python",
   "pygments_lexer": "ipython3",
   "version": "3.8.5"
  },
  "orig_nbformat": 2,
  "kernelspec": {
   "name": "python385jvsc74a57bd043831b3070e9464d981bc7edef2737601a9c8b6997cbd57bcb5bb14ab76cca9d",
   "display_name": "Python 3.8.5 64-bit ('base': conda)"
  }
 },
 "nbformat": 4,
 "nbformat_minor": 2,
 "cells": [
  {
   "cell_type": "code",
   "execution_count": 1,
   "metadata": {},
   "outputs": [
    {
     "output_type": "stream",
     "name": "stdout",
     "text": [
      "True\nFalse\n"
     ]
    }
   ],
   "source": [
    "temp = 50\n",
    "print(temp >= 32)\n",
    "print(temp < 32)"
   ]
  },
  {
   "cell_type": "code",
   "execution_count": 2,
   "metadata": {},
   "outputs": [
    {
     "output_type": "stream",
     "name": "stdout",
     "text": [
      "False\nTrue\n"
     ]
    }
   ],
   "source": [
    "rock = \"basalt\"\n",
    "print(\"highland\" == rock)\n",
    "print(\"basalt\" == rock)"
   ]
  },
  {
   "cell_type": "code",
   "execution_count": 3,
   "metadata": {},
   "outputs": [
    {
     "output_type": "stream",
     "name": "stdout",
     "text": [
      "False\nTrue\n"
     ]
    }
   ],
   "source": [
    "rock = \"basaltrock\"\n",
    "print(\"highland\" in rock)\n",
    "print(\"basalt\" in rock)"
   ]
  },
  {
   "cell_type": "code",
   "execution_count": 6,
   "metadata": {},
   "outputs": [
    {
     "output_type": "stream",
     "name": "stdout",
     "text": [
      "We have found no basalt rocks.\nDone checking basalt rocks.\n"
     ]
    }
   ],
   "source": [
    "basalt = 0\n",
    "if(basalt == 0):\n",
    "    print(\"We have found no basalt rocks.\")\n",
    "print(\"Done checking basalt rocks.\")"
   ]
  },
  {
   "cell_type": "code",
   "execution_count": 7,
   "metadata": {},
   "outputs": [
    {
     "output_type": "stream",
     "name": "stdout",
     "text": [
      "We have found no basalt rocks.\nDone checking basalt rocks.\n"
     ]
    }
   ],
   "source": [
    "basalt = 0\n",
    "if(basalt == 0):\n",
    "    print(\"We have found no basalt rocks.\")\n",
    "else:\n",
    "    print(\"We found some basalt rocks!\")\n",
    "print(\"Done checking basalt rocks.\")"
   ]
  },
  {
   "cell_type": "code",
   "execution_count": 8,
   "metadata": {},
   "outputs": [
    {
     "output_type": "stream",
     "name": "stdout",
     "text": [
      "We found some basalt rocks!\nDone checking basalt rocks.\n"
     ]
    }
   ],
   "source": [
    "basalt = 5\n",
    "if(basalt == 0):\n",
    "    print(\"We have found no basalt rocks.\")\n",
    "else:\n",
    "    print(\"We found some basalt rocks!\")\n",
    "print(\"Done checking basalt rocks.\")"
   ]
  },
  {
   "cell_type": "code",
   "execution_count": 9,
   "metadata": {},
   "outputs": [
    {
     "output_type": "stream",
     "name": "stdout",
     "text": [
      "We found exactly 1 basalt rock.\nDone checking basalt rocks.\n"
     ]
    }
   ],
   "source": [
    "basalt = 1\n",
    "if(basalt == 0):\n",
    "    print(\"We found no basalt rocks.\")\n",
    "elif(basalt == 1):\n",
    "    print(\"We found exactly 1 basalt rock.\")\n",
    "else:\n",
    "    print(\"We found more than 1 basalt rock!\")\n",
    "print(\"Done checking basalt rocks.\")"
   ]
  },
  {
   "cell_type": "code",
   "execution_count": 10,
   "metadata": {},
   "outputs": [
    {
     "output_type": "stream",
     "name": "stdout",
     "text": [
      "5\n4\n3\n2\n1\n0\nLift Off\n"
     ]
    }
   ],
   "source": [
    "countdown = 5\n",
    "\n",
    "while countdown >= 0:\n",
    "    print(countdown)\n",
    "    countdown = countdown - 1  \n",
    "print(\"Lift Off\")"
   ]
  },
  {
   "cell_type": "code",
   "execution_count": null,
   "metadata": {},
   "outputs": [],
   "source": [
    "# Trying to find life outside our planet\n",
    "timer = 10\n",
    "while  timer > 0:\n",
    "    print(\"Hello, I am from Earth\")"
   ]
  },
  {
   "cell_type": "code",
   "execution_count": null,
   "metadata": {},
   "outputs": [],
   "source": [
    "planets = \"Mars\",\"Saturn\", \"Jupiter\"\n",
    "\n",
    "for planet in planets:\n",
    "    print(planet)"
   ]
  },
  {
   "cell_type": "code",
   "execution_count": null,
   "metadata": {},
   "outputs": [],
   "source": [
    "def NameOfFunction():\n",
    "\n",
    "  return\n",
    "\n",
    "def OutputRocketText():\n",
    "  print(5)\n",
    "  print(4)\n",
    "  print(3)\n",
    "  print(2)\n",
    "  print(1)\n",
    "  print(\"Rocket will be launching soon!\")\n",
    "  \n",
    "  return\n",
    "\n",
    "OutputRocketText()"
   ]
  },
  {
   "cell_type": "code",
   "execution_count": null,
   "metadata": {},
   "outputs": [],
   "source": [
    "strPath = \"text.txt\""
   ]
  },
  {
   "cell_type": "code",
   "execution_count": null,
   "metadata": {},
   "outputs": [],
   "source": [
    "fileObject = open(strPath)"
   ]
  },
  {
   "cell_type": "code",
   "execution_count": null,
   "metadata": {},
   "outputs": [],
   "source": [
    "textList = fileObject.readlines()\n",
    "fileObject.close()"
   ]
  },
  {
   "cell_type": "code",
   "execution_count": null,
   "metadata": {},
   "outputs": [],
   "source": [
    "for line in textList:\n",
    "    print(line)"
   ]
  },
  {
   "cell_type": "code",
   "execution_count": null,
   "metadata": {},
   "outputs": [],
   "source": [
    "firstLine = textList[0]\n",
    "print(firstLine)"
   ]
  },
  {
   "cell_type": "code",
   "execution_count": null,
   "metadata": {},
   "outputs": [],
   "source": [
    "secondLine = textList[1]\n",
    "print(secondLine)"
   ]
  },
  {
   "cell_type": "code",
   "execution_count": null,
   "metadata": {},
   "outputs": [],
   "source": [
    "def OutputRocketText():\n",
    "    rocketNumber = 1\n",
    "    print(\"Rocket will launch soon!\")\n",
    "\n",
    "    return\n",
    "\n",
    "OutputRocketText()\n",
    "print(rocketNumber)"
   ]
  },
  {
   "cell_type": "code",
   "execution_count": null,
   "metadata": {},
   "outputs": [],
   "source": [
    "def OutputRocketText():\n",
    "    rocketNumber = 1\n",
    "    print(\"Rocket will launch soon!\")\n",
    "\n",
    "    return\n",
    "\n",
    "OutputRocketText()\n",
    "print(rocketNumber)"
   ]
  },
  {
   "cell_type": "code",
   "execution_count": null,
   "metadata": {},
   "outputs": [],
   "source": [
    "rocketText = \"We will launch in\"\n",
    "def OutputRocketText():\n",
    "    rocketText = rocketText + \" two days\"\n",
    "\n",
    "    return\n",
    "\n",
    "OutputRocketText()"
   ]
  },
  {
   "cell_type": "code",
   "execution_count": null,
   "metadata": {},
   "outputs": [],
   "source": [
    "rocketText = \"We will launch in\"\n",
    "\n",
    "def OutputRocketText():\n",
    "    global rocketText\n",
    "    rocketText = rocketText + \" two days\"\n",
    "\n",
    "    return\n",
    "\n",
    "OutputRocketText()\n",
    "print(rocketText)"
   ]
  },
  {
   "cell_type": "code",
   "execution_count": null,
   "metadata": {},
   "outputs": [],
   "source": [
    "def OutputRocketText(textInput):\n",
    "\n",
    "    textInput = textInput + \" two days\"\n",
    "\n",
    "    return textInput\n",
    "\n",
    "rocketText = \"We will launch in\"\n",
    "newRocketText = OutputRocketText(rocketText)\n",
    "print(newRocketText)"
   ]
  },
  {
   "cell_type": "code",
   "execution_count": null,
   "metadata": {},
   "outputs": [],
   "source": []
  }
 ]
}
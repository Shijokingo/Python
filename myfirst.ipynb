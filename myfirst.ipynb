{
 "metadata": {
  "language_info": {
   "codemirror_mode": {
    "name": "ipython",
    "version": 3
   },
   "file_extension": ".py",
   "mimetype": "text/x-python",
   "name": "python",
   "nbconvert_exporter": "python",
   "pygments_lexer": "ipython3",
   "version": "3.8.5"
  },
  "orig_nbformat": 2,
  "kernelspec": {
   "name": "python385jvsc74a57bd043831b3070e9464d981bc7edef2737601a9c8b6997cbd57bcb5bb14ab76cca9d",
   "display_name": "Python 3.8.5 64-bit ('base': conda)"
  }
 },
 "nbformat": 4,
 "nbformat_minor": 2,
 "cells": [
  {
   "cell_type": "code",
   "execution_count": 1,
   "metadata": {},
   "outputs": [
    {
     "output_type": "execute_result",
     "data": {
      "text/plain": [
       "4"
      ]
     },
     "metadata": {},
     "execution_count": 1
    }
   ],
   "source": [
    "2+2"
   ]
  },
  {
   "cell_type": "code",
   "execution_count": 2,
   "metadata": {},
   "outputs": [
    {
     "output_type": "execute_result",
     "data": {
      "text/plain": [
       "'Hello World'"
      ]
     },
     "metadata": {},
     "execution_count": 2
    }
   ],
   "source": [
    "\"Hello World\""
   ]
  },
  {
   "cell_type": "code",
   "execution_count": 3,
   "metadata": {},
   "outputs": [],
   "source": [
    "# This is a comment"
   ]
  },
  {
   "cell_type": "code",
   "execution_count": 4,
   "metadata": {},
   "outputs": [
    {
     "output_type": "execute_result",
     "data": {
      "text/plain": [
       "5"
      ]
     },
     "metadata": {},
     "execution_count": 4
    }
   ],
   "source": [
    "# 2 + 2\n",
    "2 + 3"
   ]
  },
  {
   "cell_type": "code",
   "execution_count": 15,
   "metadata": {},
   "outputs": [
    {
     "output_type": "error",
     "ename": "IndentationError",
     "evalue": "expected an indented block (<ipython-input-15-03404ef82bf3>, line 4)",
     "traceback": [
      "\u001b[0;36m  File \u001b[0;32m\"<ipython-input-15-03404ef82bf3>\"\u001b[0;36m, line \u001b[0;32m4\u001b[0m\n\u001b[0;31m    ...\u001b[0m\n\u001b[0m    ^\u001b[0m\n\u001b[0;31mIndentationError\u001b[0m\u001b[0;31m:\u001b[0m expected an indented block\n"
     ]
    }
   ],
   "source": [
    "# TODO Finish analyze space rock function\n",
    "\n",
    "def analyzeSpaceRock():\n",
    "..."
   ]
  },
  {
   "cell_type": "code",
   "execution_count": 7,
   "metadata": {},
   "outputs": [
    {
     "output_type": "execute_result",
     "data": {
      "text/plain": [
       "Ellipsis"
      ]
     },
     "metadata": {},
     "execution_count": 7
    }
   ],
   "source": [
    "# This code is a function that will take in\n",
    "# text and then see what type of space rock it is.\n",
    "# If the rock matches a certain type of rock\n",
    "# it will increase the count of that rock type by 1.\n",
    "# Basalt is a common type of rock found on the moon.\n",
    "\n",
    "def countRocks(rockText):\n",
    "    if(rockText == \"Basalt\"):\n",
    "        basalt = basalt + 1\n",
    "..."
   ]
  },
  {
   "cell_type": "code",
   "execution_count": 10,
   "metadata": {},
   "outputs": [],
   "source": [
    "rocketSpeed = 17000 # rocket speed needed to reach orbit"
   ]
  },
  {
   "cell_type": "code",
   "execution_count": 11,
   "metadata": {},
   "outputs": [
    {
     "output_type": "execute_result",
     "data": {
      "text/plain": [
       "9"
      ]
     },
     "metadata": {},
     "execution_count": 11
    }
   ],
   "source": [
    "# Combining two piles of space rocks\n",
    "3 + 6"
   ]
  },
  {
   "cell_type": "code",
   "execution_count": 16,
   "metadata": {},
   "outputs": [
    {
     "output_type": "execute_result",
     "data": {
      "text/plain": [
       "12"
      ]
     },
     "metadata": {},
     "execution_count": 16
    }
   ],
   "source": [
    "# Lose three units of oxygen\n",
    "15 - 3"
   ]
  },
  {
   "cell_type": "code",
   "execution_count": 17,
   "metadata": {},
   "outputs": [
    {
     "output_type": "execute_result",
     "data": {
      "text/plain": [
       "34000"
      ]
     },
     "metadata": {},
     "execution_count": 17
    }
   ],
   "source": [
    "# Finding how far a rocket has gone by multiplying speed by time travelling\n",
    "17000 * 2"
   ]
  },
  {
   "cell_type": "code",
   "execution_count": 18,
   "metadata": {},
   "outputs": [
    {
     "output_type": "execute_result",
     "data": {
      "text/plain": [
       "25.0"
      ]
     },
     "metadata": {},
     "execution_count": 18
    }
   ],
   "source": [
    "# Number of rocks per pile if we separate 100 space rocks in 4 piles\n",
    "100 / 4"
   ]
  },
  {
   "cell_type": "code",
   "execution_count": 19,
   "metadata": {},
   "outputs": [
    {
     "output_type": "execute_result",
     "data": {
      "text/plain": [
       "21"
      ]
     },
     "metadata": {},
     "execution_count": 19
    }
   ],
   "source": [
    "2 + 5 * 3\n",
    "(2 + 5) * 3"
   ]
  },
  {
   "cell_type": "code",
   "execution_count": 20,
   "metadata": {},
   "outputs": [
    {
     "output_type": "execute_result",
     "data": {
      "text/plain": [
       "1"
      ]
     },
     "metadata": {},
     "execution_count": 20
    }
   ],
   "source": [
    "# How many rocks will be left when we divide 10 rocks into 3 even piles\n",
    "10 % 3"
   ]
  },
  {
   "cell_type": "code",
   "execution_count": 21,
   "metadata": {},
   "outputs": [
    {
     "output_type": "execute_result",
     "data": {
      "text/plain": [
       "234422.88153199226"
      ]
     },
     "metadata": {},
     "execution_count": 21
    }
   ],
   "source": [
    "# The moon is just under 10^5.37 miles away\n",
    "10 ** 5.37"
   ]
  },
  {
   "cell_type": "code",
   "execution_count": 22,
   "metadata": {},
   "outputs": [
    {
     "output_type": "execute_result",
     "data": {
      "text/plain": [
       "2"
      ]
     },
     "metadata": {},
     "execution_count": 22
    }
   ],
   "source": [
    "# How many even piles of 2 we can make with 5 rocks\n",
    "5 // 2"
   ]
  },
  {
   "cell_type": "code",
   "execution_count": 25,
   "metadata": {},
   "outputs": [
    {
     "output_type": "execute_result",
     "data": {
      "text/plain": [
       "Ellipsis"
      ]
     },
     "metadata": {},
     "execution_count": 25
    }
   ],
   "source": [
    "# Integer Variable\n",
    "numberOfRocks = 5\n",
    "\n",
    "# Float Variable\n",
    "tempInSpace = -457.87\n",
    "\n",
    "# String Variable\n",
    "roverName = \"Artemis Rover\"\n",
    "\n",
    "# Boolean Variable\n",
    "rocketOn = False\n",
    "..."
   ]
  },
  {
   "cell_type": "code",
   "execution_count": 26,
   "metadata": {},
   "outputs": [],
   "source": [
    "# Create integer variable named basaltRockCount with value 0\n",
    "basaltRockCount = 0"
   ]
  },
  {
   "cell_type": "code",
   "execution_count": 27,
   "metadata": {},
   "outputs": [
    {
     "output_type": "execute_result",
     "data": {
      "text/plain": [
       "4"
      ]
     },
     "metadata": {},
     "execution_count": 27
    }
   ],
   "source": [
    "basaltRockCount = 3\n",
    "basaltRockCount = basaltRockCount + 1\n",
    "basaltRockCount"
   ]
  },
  {
   "cell_type": "code",
   "execution_count": 28,
   "metadata": {},
   "outputs": [],
   "source": [
    "basaltRockCount = 5\n",
    "basaltRockCount += 3 #Add 3\n",
    "basaltRockCount -= 2 #Remove 2"
   ]
  },
  {
   "cell_type": "code",
   "execution_count": 29,
   "metadata": {},
   "outputs": [
    {
     "output_type": "execute_result",
     "data": {
      "text/plain": [
       "228621"
      ]
     },
     "metadata": {},
     "execution_count": 29
    }
   ],
   "source": [
    "# Find out how many miles until rocket reaches moon\n",
    "distanceToMoon = 238855\n",
    "distanceTraveled = 10234\n",
    "distanceToMoon - distanceTraveled"
   ]
  },
  {
   "cell_type": "code",
   "execution_count": 30,
   "metadata": {},
   "outputs": [
    {
     "output_type": "execute_result",
     "data": {
      "text/plain": [
       "228621"
      ]
     },
     "metadata": {},
     "execution_count": 30
    }
   ],
   "source": [
    "# Find out how many miles until rocket reaches moon\n",
    "a = 238855\n",
    "b = 10234\n",
    "a - b"
   ]
  },
  {
   "cell_type": "code",
   "execution_count": 32,
   "metadata": {},
   "outputs": [],
   "source": [
    "astronaut = \"Remy Morris\""
   ]
  },
  {
   "cell_type": "code",
   "execution_count": 33,
   "metadata": {},
   "outputs": [
    {
     "output_type": "execute_result",
     "data": {
      "text/plain": [
       "'remy morris'"
      ]
     },
     "metadata": {},
     "execution_count": 33
    }
   ],
   "source": [
    "lowerCase = astronaut.lower()\n",
    "lowerCase"
   ]
  },
  {
   "cell_type": "code",
   "execution_count": 34,
   "metadata": {},
   "outputs": [
    {
     "output_type": "execute_result",
     "data": {
      "text/plain": [
       "'Rocket is a launch!'"
      ]
     },
     "metadata": {},
     "execution_count": 34
    }
   ],
   "source": [
    "rocketOutput = \"rOckEt iS A laUncH!\"\n",
    "rocketOutput.capitalize()"
   ]
  },
  {
   "cell_type": "code",
   "execution_count": 35,
   "metadata": {},
   "outputs": [
    {
     "output_type": "execute_result",
     "data": {
      "text/plain": [
       "'Cape Canaveral, Florida'"
      ]
     },
     "metadata": {},
     "execution_count": 35
    }
   ],
   "source": [
    "launchLocationCity = \"Cape Canaveral, \"\n",
    "launchLocationState = \"Florida\"\n",
    "\n",
    "launchLocationCity + launchLocationState"
   ]
  },
  {
   "cell_type": "code",
   "execution_count": 36,
   "metadata": {},
   "outputs": [
    {
     "output_type": "execute_result",
     "data": {
      "text/plain": [
       "'beep beep beep beep beep beep '"
      ]
     },
     "metadata": {},
     "execution_count": 36
    }
   ],
   "source": [
    "artemisRoverSounds = \"beep beep \"\n",
    "artemisRoverSounds * 3"
   ]
  },
  {
   "cell_type": "code",
   "execution_count": 37,
   "metadata": {},
   "outputs": [
    {
     "output_type": "execute_result",
     "data": {
      "text/plain": [
       "['basalt', 'highland', 'breccia']"
      ]
     },
     "metadata": {},
     "execution_count": 37
    }
   ],
   "source": [
    "# Create a list of common moon rocks\n",
    "rockTypes = [\"basalt\", \"highland\", \"breccia\"]\n",
    "rockTypes"
   ]
  },
  {
   "cell_type": "code",
   "execution_count": 38,
   "metadata": {},
   "outputs": [
    {
     "output_type": "execute_result",
     "data": {
      "text/plain": [
       "['basalt', 1, 'highland', 2.5, 'breccia', 5]"
      ]
     },
     "metadata": {},
     "execution_count": 38
    }
   ],
   "source": [
    "# A list with rock names and the number of that rock found\n",
    "rockTypeAndCount = [\"basalt\", 1, \"highland\", 2.5, \"breccia\", 5]\n",
    "rockTypeAndCount"
   ]
  },
  {
   "cell_type": "code",
   "execution_count": 39,
   "metadata": {},
   "outputs": [
    {
     "output_type": "execute_result",
     "data": {
      "text/plain": [
       "'highland'"
      ]
     },
     "metadata": {},
     "execution_count": 39
    }
   ],
   "source": [
    "rockTypes[1]"
   ]
  },
  {
   "cell_type": "code",
   "execution_count": 40,
   "metadata": {},
   "outputs": [
    {
     "output_type": "execute_result",
     "data": {
      "text/plain": [
       "['basalt', 'highland', 'soil']"
      ]
     },
     "metadata": {},
     "execution_count": 40
    }
   ],
   "source": [
    "rockTypes[2] = \"soil\"\n",
    "rockTypes"
   ]
  },
  {
   "cell_type": "code",
   "execution_count": 41,
   "metadata": {},
   "outputs": [
    {
     "output_type": "execute_result",
     "data": {
      "text/plain": [
       "8"
      ]
     },
     "metadata": {},
     "execution_count": 41
    }
   ],
   "source": [
    "2 + 2\n",
    "5 + 3"
   ]
  },
  {
   "cell_type": "code",
   "execution_count": 42,
   "metadata": {},
   "outputs": [
    {
     "output_type": "stream",
     "name": "stdout",
     "text": [
      "6\nHello World\n"
     ]
    }
   ],
   "source": [
    "print(6)\n",
    "print(\"Hello World\")\n"
   ]
  },
  {
   "cell_type": "code",
   "execution_count": 43,
   "metadata": {},
   "outputs": [
    {
     "output_type": "stream",
     "name": "stdout",
     "text": [
      "15\n"
     ]
    }
   ],
   "source": [
    "numRocks = 15\n",
    "print(numRocks)"
   ]
  },
  {
   "cell_type": "code",
   "execution_count": 44,
   "metadata": {},
   "outputs": [
    {
     "output_type": "stream",
     "name": "stdout",
     "text": [
      "The number of Basalt rocks found: 4\n"
     ]
    }
   ],
   "source": [
    "numBasalt = 4\n",
    "print(\"The number of Basalt rocks found:\", numBasalt)"
   ]
  },
  {
   "cell_type": "code",
   "execution_count": 1,
   "metadata": {},
   "outputs": [
    {
     "output_type": "stream",
     "name": "stdout",
     "text": [
      "On February 26 number of rocks found: 15\n"
     ]
    }
   ],
   "source": [
    "date = \"February 26\"\n",
    "numRocks = 15\n",
    "print(\"On\", date, \"number of rocks found:\", numRocks)"
   ]
  },
  {
   "cell_type": "code",
   "execution_count": null,
   "metadata": {},
   "outputs": [],
   "source": []
  }
 ]
}